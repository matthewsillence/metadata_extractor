{
  "nbformat": 4,
  "nbformat_minor": 0,
  "metadata": {
    "colab": {
      "name": "Metadata_extractor.ipynb",
      "provenance": [],
      "collapsed_sections": [],
      "authorship_tag": "ABX9TyMJqhphep6E/1CuMxuTAYCn",
      "include_colab_link": true
    },
    "kernelspec": {
      "name": "python3",
      "display_name": "Python 3"
    },
    "language_info": {
      "name": "python"
    }
  },
  "cells": [
    {
      "cell_type": "markdown",
      "metadata": {
        "id": "view-in-github",
        "colab_type": "text"
      },
      "source": [
        "<a href=\"https://colab.research.google.com/github/matthewsillence/metadata_extractor/blob/main/Metadata_extractor.ipynb\" target=\"_parent\"><img src=\"https://colab.research.google.com/assets/colab-badge.svg\" alt=\"Open In Colab\"/></a>"
      ]
    },
    {
      "cell_type": "code",
      "source": [
        "import string as str\n",
        "\n",
        "F_IN = '/content/Hamnet.txt'\n",
        "\n",
        "with open(F_IN, 'r', encoding='utf-8') as f_in:\n",
        "    text = f_in.read()\n",
        "    caps = str.capwords(text)\n",
        "    list = (caps.split())\n",
        "    print(list)"
      ],
      "metadata": {
        "id": "SAVH_GHvlqr-"
      },
      "execution_count": null,
      "outputs": []
    },
    {
      "cell_type": "code",
      "source": [
        "author1 = list[1],'' + list[0]\n",
        "print(author1)"
      ],
      "metadata": {
        "id": "Ahz5ggsl1JN0"
      },
      "execution_count": null,
      "outputs": []
    },
    {
      "cell_type": "code",
      "source": [
        "title = list[2]\n",
        "print(title)"
      ],
      "metadata": {
        "id": "Vzy2tNQJ2LjA"
      },
      "execution_count": null,
      "outputs": []
    },
    {
      "cell_type": "code",
      "source": [
        "publisher = list[3] + list[4]\n",
        "print(publisher)"
      ],
      "metadata": {
        "id": "Ii04mjZr4XRB"
      },
      "execution_count": null,
      "outputs": []
    },
    {
      "cell_type": "code",
      "source": [
        "!pip install rispy\n",
        "import rispy\n",
        "\n",
        "entries = [\n",
        "           {'type_of_reference': 'BOOK',\n",
        "            'id': ' ',\n",
        "            'primary_title': title,\n",
        "            'first_authors': author1,\n",
        "            'abstract': 'Lorem ipsum',\n",
        "            'publisher': publisher}]\n",
        "filepath = 'export.ris'\n",
        "with open(filepath, 'w') as bibliography_file:\n",
        "  rispy.dump(entries, bibliography_file)\n"
      ],
      "metadata": {
        "id": "u_1Ivkyx4f-Y"
      },
      "execution_count": null,
      "outputs": []
    },
    {
      "cell_type": "code",
      "source": [
        "with open('/content/export.ris') as f_in:\n",
        "  data = f_in.read()"
      ],
      "metadata": {
        "id": "EKgZaOsG5bqa"
      },
      "execution_count": 139,
      "outputs": []
    },
    {
      "cell_type": "code",
      "source": [
        "print(data)"
      ],
      "metadata": {
        "id": "2r-uupE_5fCw"
      },
      "execution_count": null,
      "outputs": []
    }
  ]
}