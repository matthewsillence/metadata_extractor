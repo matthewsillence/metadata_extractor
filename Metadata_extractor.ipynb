{
  "nbformat": 4,
  "nbformat_minor": 0,
  "metadata": {
    "colab": {
      "name": "Metadata_extractor.ipynb",
      "provenance": [],
      "collapsed_sections": [],
      "authorship_tag": "ABX9TyMayR+sM+ZDiy5chKU/HY+o",
      "include_colab_link": true
    },
    "kernelspec": {
      "name": "python3",
      "display_name": "Python 3"
    },
    "language_info": {
      "name": "python"
    }
  },
  "cells": [
    {
      "cell_type": "markdown",
      "metadata": {
        "id": "view-in-github",
        "colab_type": "text"
      },
      "source": [
        "<a href=\"https://colab.research.google.com/github/matthewsillence/metadata_extractor/blob/main/Metadata_extractor.ipynb\" target=\"_parent\"><img src=\"https://colab.research.google.com/assets/colab-badge.svg\" alt=\"Open In Colab\"/></a>"
      ]
    },
    {
      "cell_type": "code",
      "source": [
        "import string as str\n",
        "\n",
        "F_IN = '/content/Hamnet.txt'\n",
        "\n",
        "with open(F_IN, 'r', encoding='utf-8') as f_in:\n",
        "    text = f_in.read()\n",
        "    caps = str.capwords(text)\n",
        "    list = (caps.split())\n",
        "    print(list)"
      ],
      "metadata": {
        "id": "SAVH_GHvlqr-",
        "colab": {
          "base_uri": "https://localhost:8080/"
        },
        "outputId": "50a6812b-bbd6-4949-b8fe-05da3585a144"
      },
      "execution_count": null,
      "outputs": [
        {
          "output_type": "stream",
          "name": "stdout",
          "text": [
            "['\\ufeffmaggie', 'O’farrell', 'Hamnet', 'Tinder', 'Press']\n"
          ]
        }
      ]
    },
    {
      "cell_type": "code",
      "source": [
        "author1 = list[1],'' + list[0]\n",
        "print(author1)"
      ],
      "metadata": {
        "id": "Ahz5ggsl1JN0",
        "colab": {
          "base_uri": "https://localhost:8080/"
        },
        "outputId": "80d89e9c-cc32-4a6d-fcf8-129d99135150"
      },
      "execution_count": null,
      "outputs": [
        {
          "output_type": "stream",
          "name": "stdout",
          "text": [
            "('O’farrell', '\\ufeffmaggie')\n"
          ]
        }
      ]
    },
    {
      "cell_type": "code",
      "source": [
        "title = list[2]\n",
        "print(title)"
      ],
      "metadata": {
        "id": "Vzy2tNQJ2LjA",
        "colab": {
          "base_uri": "https://localhost:8080/"
        },
        "outputId": "1359d7d6-bc2c-4df2-e5ba-75dc1ea1fc52"
      },
      "execution_count": null,
      "outputs": [
        {
          "output_type": "stream",
          "name": "stdout",
          "text": [
            "Hamnet\n"
          ]
        }
      ]
    },
    {
      "cell_type": "code",
      "source": [
        "publisher = list[3] + list[4]\n",
        "print(publisher)"
      ],
      "metadata": {
        "id": "Ii04mjZr4XRB",
        "colab": {
          "base_uri": "https://localhost:8080/"
        },
        "outputId": "85740214-f3fe-451d-a0cb-7653b1622819"
      },
      "execution_count": null,
      "outputs": [
        {
          "output_type": "stream",
          "name": "stdout",
          "text": [
            "TinderPress\n"
          ]
        }
      ]
    },
    {
      "cell_type": "code",
      "source": [
        "!pip install rispy\n",
        "import rispy\n",
        "\n",
        "entries = [\n",
        "           {'type_of_reference': 'BOOK',\n",
        "            'id': ' ',\n",
        "            'primary_title': title,\n",
        "            'first_authors': author1,\n",
        "            'abstract': 'Lorem ipsum',\n",
        "            'publisher': publisher}]\n",
        "filepath = 'export.ris'\n",
        "with open(filepath, 'w') as bibliography_file:\n",
        "  rispy.dump(entries, bibliography_file)\n"
      ],
      "metadata": {
        "id": "u_1Ivkyx4f-Y",
        "colab": {
          "base_uri": "https://localhost:8080/"
        },
        "outputId": "bb793a3a-3def-4bf8-be99-7e4c854e9b8d"
      },
      "execution_count": null,
      "outputs": [
        {
          "output_type": "stream",
          "name": "stdout",
          "text": [
            "Requirement already satisfied: rispy in /usr/local/lib/python3.7/dist-packages (0.7.1)\n"
          ]
        }
      ]
    },
    {
      "cell_type": "code",
      "source": [
        "with open('/content/export.ris') as f_in:\n",
        "  data = f_in.read()"
      ],
      "metadata": {
        "id": "EKgZaOsG5bqa"
      },
      "execution_count": null,
      "outputs": []
    },
    {
      "cell_type": "code",
      "source": [
        "print(data)"
      ],
      "metadata": {
        "id": "2r-uupE_5fCw",
        "colab": {
          "base_uri": "https://localhost:8080/"
        },
        "outputId": "ac1a5fe3-b6a5-4ee0-d9e0-3d501778feb1"
      },
      "execution_count": null,
      "outputs": [
        {
          "output_type": "stream",
          "name": "stdout",
          "text": [
            "1.\n",
            "TY  - BOOK\n",
            "ID  -  \n",
            "T1  - Hamnet\n",
            "A1  - O’farrell\n",
            "A1  - ﻿maggie\n",
            "AB  - Lorem ipsum\n",
            "PB  - TinderPress\n",
            "ER  - \n",
            "\n"
          ]
        }
      ]
    },
    {
      "cell_type": "code",
      "source": [
        "!pip install rispy\n",
        "import rispy\n",
        "import pprint\n",
        "import nltk as nltk\n",
        "\n",
        "#To iterate over a directory of text files as a corpus\n",
        "from nltk.corpus import PlaintextCorpusReader\n",
        "import string\n",
        "\n",
        "#Ensure files are located in the same folder\n",
        "corpus_root = '/content/Textfiles'\n",
        "corpus = PlaintextCorpusReader(corpus_root, '.*')\n",
        "corpus.fileids()"
      ],
      "metadata": {
        "id": "CP6vQxKa5TXG",
        "colab": {
          "base_uri": "https://localhost:8080/"
        },
        "outputId": "9ed1ba66-8dd3-44e1-f042-4681329aba67"
      },
      "execution_count": null,
      "outputs": [
        {
          "output_type": "stream",
          "name": "stdout",
          "text": [
            "Collecting rispy\n",
            "  Downloading rispy-0.7.1-py3-none-any.whl (15 kB)\n",
            "Installing collected packages: rispy\n",
            "Successfully installed rispy-0.7.1\n"
          ]
        },
        {
          "output_type": "execute_result",
          "data": {
            "text/plain": [
              "['Doc_12_03_22_10_29_42.txt',\n",
              " 'Doc_12_03_22_17_55_00.txt',\n",
              " 'Doc_12_03_22_17_57_31.txt',\n",
              " 'Doc_12_03_22_17_58_13.txt',\n",
              " 'Doc_12_03_22_17_58_55.txt']"
            ]
          },
          "metadata": {},
          "execution_count": 1
        }
      ]
    },
    {
      "cell_type": "code",
      "source": [
        "#Create for loop over the fileids\n",
        "filepath = 'export.ris'\n",
        "import sys\n",
        "\n",
        "for fname in corpus.fileids():\n",
        "  text = corpus.raw(fname)\n",
        "  meta = string.capwords(text)\n",
        "  entry =  [\n",
        "             {'type_of_reference': 'BOOK',\n",
        "            'id': ' ',\n",
        "            'primary_title': '',\n",
        "            'first_authors': '',\n",
        "            'abstract': meta,\n",
        "            'publisher': ''}\n",
        "             ]\n",
        "  print(entry)"
      ],
      "metadata": {
        "id": "MMJwa4RjjFN8",
        "colab": {
          "base_uri": "https://localhost:8080/"
        },
        "outputId": "753135f3-da99-46d8-99e7-9313a02bc061"
      },
      "execution_count": null,
      "outputs": [
        {
          "output_type": "stream",
          "name": "stdout",
          "text": [
            "[{'type_of_reference': 'BOOK', 'id': ' ', 'primary_title': '', 'first_authors': '', 'abstract': 'Maggie O’farrell Hamnet Tinder Press', 'publisher': ''}]\n",
            "[{'type_of_reference': 'BOOK', 'id': ' ', 'primary_title': '', 'first_authors': '', 'abstract': 'Jean-paul Sartre Nausea Translated From The French By Robert Baldic\\\\ With An Introduction By James Wood Penguin Books', 'publisher': ''}]\n",
            "[{'type_of_reference': 'BOOK', 'id': ' ', 'primary_title': '', 'first_authors': '', 'abstract': 'Penguin Books', 'publisher': ''}]\n",
            "[{'type_of_reference': 'BOOK', 'id': ' ', 'primary_title': '', 'first_authors': '', 'abstract': 'Marcel Proust The Way By Swann’s Translated And With An Introduction And Notes By Lydia Davis General Editor: Christopher Prendergast Penguin', 'publisher': ''}]\n",
            "[{'type_of_reference': 'BOOK', 'id': ' ', 'primary_title': '', 'first_authors': '', 'abstract': 'Brick Lane Monica Ali Ffl Black Swan', 'publisher': ''}]\n"
          ]
        }
      ]
    },
    {
      "cell_type": "code",
      "source": [
        "from contextlib import redirect_stdout\n",
        "\n",
        "with open('out.txt', 'w') as f:\n",
        "    with redirect_stdout(f):\n",
        "        print(entry)"
      ],
      "metadata": {
        "id": "DxVl7qfrbbH2"
      },
      "execution_count": null,
      "outputs": []
    },
    {
      "cell_type": "code",
      "source": [
        ""
      ],
      "metadata": {
        "id": "diR2aqN7V2bq"
      },
      "execution_count": null,
      "outputs": []
    }
  ]
}